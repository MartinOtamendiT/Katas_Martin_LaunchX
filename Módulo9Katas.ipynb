{
  "cells": [
    {
      "cell_type": "markdown",
      "metadata": {},
      "source": [
        "# Ejercicio: Uso de funciones en Python"
      ]
    },
    {
      "cell_type": "markdown",
      "metadata": {},
      "source": [
        "### Ejercicio 1: Trabajar con argumentos en funciones\n",
        "\n",
        "Los argumentos requeridos en las funciones se utilizan cuando las funciones necesitan que esos argumentos funcionen correctamente. En este ejercicio, construirás un informe de combustible que requiere información de varias ubicaciones de combustible en todo el cohete.\n",
        "\n"
      ]
    },
    {
      "cell_type": "markdown",
      "metadata": {},
      "source": [
        "> **TIP**\n",
        "> Dedica unos minutos para tratar de encontrar una solución. Luego desplázate hacia abajo hasta la parte inferior para ver si has logrado compilar el programa de acuerdo con las especificaciones\n",
        "\n",
        "Comienza por crear una función que necesite tres lecturas de combustible y devuelva un informe:"
      ]
    },
    {
      "cell_type": "code",
      "execution_count": 24,
      "metadata": {},
      "outputs": [],
      "source": [
        "# Función para leer 3 tanques de combustible y muestre el promedio\n",
        "def fuelReport(tank1, tank2, tank3):\n",
        "    averageFuel=(tank1+tank2+tank3)/3\n",
        "    report=f\"Fuel report\\n**************\\nTank 1: {tank1}\\nTank 2: {tank2}\\nTank 3: {tank3}\\nAverage fuel: {averageFuel}\"\n",
        "    return report\n",
        "    "
      ]
    },
    {
      "cell_type": "markdown",
      "metadata": {},
      "source": [
        "Ahora que hemos definido la función de informes, vamos a comprobarlo. Para esta misión, los tanques no están llenos:"
      ]
    },
    {
      "cell_type": "code",
      "execution_count": 25,
      "metadata": {},
      "outputs": [
        {
          "name": "stdout",
          "output_type": "stream",
          "text": [
            "Fuel report\n",
            "**************\n",
            "Tank 1: 30\n",
            "Tank 2: 75\n",
            "Tank 3: 50\n",
            "Average fuel: 51.666666666666664\n"
          ]
        }
      ],
      "source": [
        "\n",
        "# Llamamos a la función que genera el reporte print(funcion(tanque1, tanque2, tanque3))\n",
        "print(fuelReport(30,75,50)) "
      ]
    },
    {
      "cell_type": "markdown",
      "metadata": {},
      "source": [
        "En lugar de simplemente crear el informe, la función también está calculando el promedio. Mejora la legibilidad extrayendo el cálculo promedio de la función en una nueva función para que el promedio se pueda hacer de forma independiente:"
      ]
    },
    {
      "cell_type": "code",
      "execution_count": 33,
      "metadata": {},
      "outputs": [],
      "source": [
        "# Función promedio \n",
        "def average(*args):\n",
        "    average=(sum(args))/len(args)\n",
        "    return average"
      ]
    },
    {
      "cell_type": "markdown",
      "metadata": {},
      "source": [
        "Ahora actualiza la función de informes para llamando a la nueva función del promedio:\n"
      ]
    },
    {
      "cell_type": "code",
      "execution_count": 36,
      "metadata": {},
      "outputs": [
        {
          "name": "stdout",
          "output_type": "stream",
          "text": [
            "Fuel report\n",
            "**************\n",
            "Tank 1: 60\n",
            "Tank 2: 75\n",
            "Tank 3: 100\n",
            "Average fuel: 78.33333333333333\n"
          ]
        }
      ],
      "source": [
        "# Actualiza la función\n",
        "def fuelReport(tank1, tank2, tank3):\n",
        "    report=f\"Fuel report\\n**************\\nTank 1: {tank1}\\nTank 2: {tank2}\\nTank 3: {tank3}\\nAverage fuel: {average(tank1,tank2,tank3)}\"\n",
        "    return report\n",
        "\n",
        "print(fuelReport(60,75,100))"
      ]
    },
    {
      "cell_type": "markdown",
      "metadata": {},
      "source": [
        "> Recuerda: Lo importante es intentarlo, puedes auxiliarte de internet, libros, etc. El objetivo de una kata es la comprobación de la comprensión de la lección y su aplicación inmediata a la resolución de problemas. Go for it!"
      ]
    },
    {
      "cell_type": "markdown",
      "metadata": {},
      "source": [
        "## Ejercicio 2: Trabajo con argumentos de palabra clave"
      ]
    },
    {
      "cell_type": "markdown",
      "metadata": {},
      "source": [
        "### Ejercicio : Trabajar con argumentos de palabras clave en funciones\n",
        "En este ejercicio, construirás un informe de cohete que requiere varias piezas de información, como el tiempo hasta el destino, el combustible a la izquierda y el nombre del destino. Comienza por crear una función que creará un informe preciso de la misión:"
      ]
    },
    {
      "cell_type": "code",
      "execution_count": 58,
      "metadata": {},
      "outputs": [
        {
          "name": "stdout",
          "output_type": "stream",
          "text": [
            "Mission report\n",
            "    ******************************************************\n",
            "    Destination: Mars\n",
            "    Estimated time to destination: 18 minutes\n",
            "    Left fuel: 110 gallons\n"
          ]
        }
      ],
      "source": [
        "# Función con un informe preciso de la misión. Considera hora de prelanzamiento, tiempo de vuelo, destino, tanque externo y tanque interno\n",
        "def missionReport(timePrelauch,timeFlight,destination,extTank,intTank):\n",
        "    report=f\"\"\"Mission report\n",
        "    ******************************************************\n",
        "    Destination: {destination}\n",
        "    Estimated time to destination: {timePrelauch+timeFlight} minutes\n",
        "    Left fuel: {extTank+intTank} gallons\"\"\"\n",
        "    return report\n",
        "\n",
        "print(missionReport(9,9,\"Mars\",30,80))"
      ]
    },
    {
      "cell_type": "markdown",
      "metadata": {},
      "source": [
        "La función es problemática porque no se puede adaptar para minutos adicionales o tanques adicionales de combustible. Hazlo más flexible permitiendo cualquier número de pasos basados en el tiempo y cualquier número de tanques. En lugar de usar `*args` y `**kwargs`, aprovecha el hecho de que puedes usar cualquier nombre que desees. Asegurate que la función sea más legible mediante el uso de nombres de variables que están asociados con las entradas, como `*minutes` y `**fuel_reservoirs`:"
      ]
    },
    {
      "cell_type": "code",
      "execution_count": 66,
      "metadata": {},
      "outputs": [
        {
          "name": "stdout",
          "output_type": "stream",
          "text": [
            "Mission report\n",
            "    ****************************************************\n",
            "    Destination: Saturn\n",
            "    Estimated time to destination: 110 minutes\n",
            "    Left fuel: 185 gallons\n"
          ]
        }
      ],
      "source": [
        "# Escribe tu nueva función de reporte considerando lo anterior\n",
        "def missionReport(destination, *minutes, **fuel_reservoirs):\n",
        "    report=f\"\"\"Mission report\n",
        "    ****************************************************\n",
        "    Destination: {destination}\n",
        "    Estimated time to destination: {sum(minutes)} minutes\n",
        "    Left fuel: {sum(fuel_reservoirs.values())} gallons\"\"\"\n",
        "    return report\n",
        "\n",
        "print(missionReport(\"Saturn\", 30,75,5, externalTank=100, internalTank=85))"
      ]
    },
    {
      "cell_type": "markdown",
      "metadata": {},
      "source": [
        "Debido a que el combustible que queda en los tanques es específico de cada tanque, actualiza la función para usar el nombre de cada tanque en el informe:"
      ]
    },
    {
      "cell_type": "code",
      "execution_count": 82,
      "metadata": {},
      "outputs": [
        {
          "name": "stdout",
          "output_type": "stream",
          "text": [
            "Mission report\n",
            "    ****************************************************\n",
            "    Destination: Saturn\n",
            "    Estimated time to destination: 110 minutes\n",
            "    Left fuel: 185 gallons\n",
            "    ExternalTank: 100 gallons\n",
            "    InternalTank: 85 gallons\n"
          ]
        }
      ],
      "source": [
        "# Escribe tu nueva función\n",
        "def missionReport(destination, *minutes, **fuel_reservoirs):\n",
        "    report=f\"\"\"Mission report\n",
        "    ****************************************************\n",
        "    Destination: {destination}\n",
        "    Estimated time to destination: {sum(minutes)} minutes\n",
        "    Left fuel: {sum(fuel_reservoirs.values())} gallons\"\"\"\n",
        "\n",
        "    for tanks, availableFuel in fuel_reservoirs.items():\n",
        "        report+=f\"\\n    {tanks}: {availableFuel} gallons\"\n",
        "    \n",
        "    return report\n",
        "\n",
        "print(missionReport(\"Saturn\", 30,75,5, ExternalTank=100, InternalTank=85))"
      ]
    },
    {
      "cell_type": "markdown",
      "metadata": {},
      "source": [
        "---\n",
        "\n",
        "Curso Propedútico de Python para Launch X - Innovacción Virtual.\n",
        "\n",
        "Material desarrollado con base en los contenidos de MSLearn y la metáfora de LaunchX, traducción e implementación por: Fernanda Ochoa - Learning Producer de LaunchX.\n",
        "\n",
        "Redes:\n",
        "* GitHub: [FernandaOchoa](https://github.com/FernandaOchoa)\n",
        "* Twitter: [@imonsh](https://twitter.com/imonsh)\n",
        "* Instagram: [fherz8a](https://www.instagram.com/fherz8a/)"
      ]
    }
  ],
  "metadata": {
    "interpreter": {
      "hash": "205095b8b86ea82a021a8fc2ffba2b3bc9f8d0be25999901963b225939f75778"
    },
    "kernelspec": {
      "display_name": "Python 3.8.10 64-bit ('tmp': conda)",
      "name": "python3"
    },
    "language_info": {
      "codemirror_mode": {
        "name": "ipython",
        "version": 3
      },
      "file_extension": ".py",
      "mimetype": "text/x-python",
      "name": "python",
      "nbconvert_exporter": "python",
      "pygments_lexer": "ipython3",
      "version": "3.10.0"
    },
    "nteract": {
      "version": "nteract-front-end@1.0.0"
    },
    "orig_nbformat": 4
  },
  "nbformat": 4,
  "nbformat_minor": 2
}
